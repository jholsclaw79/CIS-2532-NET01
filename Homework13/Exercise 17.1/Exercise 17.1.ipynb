{
 "cells": [
  {
   "cell_type": "code",
   "execution_count": 1,
   "id": "initial_id",
   "metadata": {
    "ExecuteTime": {
     "end_time": "2024-05-05T20:31:33.355420600Z",
     "start_time": "2024-05-05T20:31:33.241092800Z"
    },
    "collapsed": true
   },
   "outputs": [],
   "source": [
    "import sqlite3\n",
    "import pandas as pd\n",
    "\n",
    "connection = sqlite3.connect('books.db')\n",
    "pd.options.display.max_columns = 10"
   ]
  },
  {
   "cell_type": "code",
   "execution_count": 2,
   "id": "4dc264f35ed8b3a7",
   "metadata": {
    "ExecuteTime": {
     "end_time": "2024-05-05T20:31:35.568586400Z",
     "start_time": "2024-05-05T20:31:35.562492300Z"
    },
    "collapsed": false
   },
   "outputs": [
    {
     "data": {
      "text/html": [
       "<div>\n",
       "<style scoped>\n",
       "    .dataframe tbody tr th:only-of-type {\n",
       "        vertical-align: middle;\n",
       "    }\n",
       "\n",
       "    .dataframe tbody tr th {\n",
       "        vertical-align: top;\n",
       "    }\n",
       "\n",
       "    .dataframe thead th {\n",
       "        text-align: right;\n",
       "    }\n",
       "</style>\n",
       "<table border=\"1\" class=\"dataframe\">\n",
       "  <thead>\n",
       "    <tr style=\"text-align: right;\">\n",
       "      <th></th>\n",
       "      <th>last</th>\n",
       "    </tr>\n",
       "  </thead>\n",
       "  <tbody>\n",
       "    <tr>\n",
       "      <th>0</th>\n",
       "      <td>Wald</td>\n",
       "    </tr>\n",
       "    <tr>\n",
       "      <th>1</th>\n",
       "      <td>Quirk</td>\n",
       "    </tr>\n",
       "    <tr>\n",
       "      <th>2</th>\n",
       "      <td>Deitel</td>\n",
       "    </tr>\n",
       "    <tr>\n",
       "      <th>3</th>\n",
       "      <td>Deitel</td>\n",
       "    </tr>\n",
       "    <tr>\n",
       "      <th>4</th>\n",
       "      <td>Deitel</td>\n",
       "    </tr>\n",
       "  </tbody>\n",
       "</table>\n",
       "</div>"
      ],
      "text/plain": [
       "     last\n",
       "0    Wald\n",
       "1   Quirk\n",
       "2  Deitel\n",
       "3  Deitel\n",
       "4  Deitel"
      ]
     },
     "execution_count": 2,
     "metadata": {},
     "output_type": "execute_result"
    }
   ],
   "source": [
    "pd.read_sql_query('SELECT last FROM authors ORDER BY last DESC', connection)"
   ]
  },
  {
   "cell_type": "code",
   "execution_count": 3,
   "id": "cf393f75c862e3b6",
   "metadata": {
    "ExecuteTime": {
     "end_time": "2024-05-05T20:31:36.522172100Z",
     "start_time": "2024-05-05T20:31:36.513992Z"
    },
    "collapsed": false
   },
   "outputs": [
    {
     "data": {
      "text/html": [
       "<div>\n",
       "<style scoped>\n",
       "    .dataframe tbody tr th:only-of-type {\n",
       "        vertical-align: middle;\n",
       "    }\n",
       "\n",
       "    .dataframe tbody tr th {\n",
       "        vertical-align: top;\n",
       "    }\n",
       "\n",
       "    .dataframe thead th {\n",
       "        text-align: right;\n",
       "    }\n",
       "</style>\n",
       "<table border=\"1\" class=\"dataframe\">\n",
       "  <thead>\n",
       "    <tr style=\"text-align: right;\">\n",
       "      <th></th>\n",
       "      <th>title</th>\n",
       "    </tr>\n",
       "  </thead>\n",
       "  <tbody>\n",
       "    <tr>\n",
       "      <th>0</th>\n",
       "      <td>Android 6 for Programmers</td>\n",
       "    </tr>\n",
       "    <tr>\n",
       "      <th>1</th>\n",
       "      <td>Android How to Program</td>\n",
       "    </tr>\n",
       "    <tr>\n",
       "      <th>2</th>\n",
       "      <td>C How to Program</td>\n",
       "    </tr>\n",
       "    <tr>\n",
       "      <th>3</th>\n",
       "      <td>C++ How to Program</td>\n",
       "    </tr>\n",
       "    <tr>\n",
       "      <th>4</th>\n",
       "      <td>Internet &amp; WWW How to Program</td>\n",
       "    </tr>\n",
       "    <tr>\n",
       "      <th>5</th>\n",
       "      <td>Intro to Python for CS and DS</td>\n",
       "    </tr>\n",
       "    <tr>\n",
       "      <th>6</th>\n",
       "      <td>Java How to Program</td>\n",
       "    </tr>\n",
       "    <tr>\n",
       "      <th>7</th>\n",
       "      <td>Visual Basic 2012 How to Program</td>\n",
       "    </tr>\n",
       "    <tr>\n",
       "      <th>8</th>\n",
       "      <td>Visual C# How to Program</td>\n",
       "    </tr>\n",
       "    <tr>\n",
       "      <th>9</th>\n",
       "      <td>Visual C++ How to Program</td>\n",
       "    </tr>\n",
       "  </tbody>\n",
       "</table>\n",
       "</div>"
      ],
      "text/plain": [
       "                              title\n",
       "0         Android 6 for Programmers\n",
       "1            Android How to Program\n",
       "2                  C How to Program\n",
       "3                C++ How to Program\n",
       "4     Internet & WWW How to Program\n",
       "5     Intro to Python for CS and DS\n",
       "6               Java How to Program\n",
       "7  Visual Basic 2012 How to Program\n",
       "8          Visual C# How to Program\n",
       "9         Visual C++ How to Program"
      ]
     },
     "execution_count": 3,
     "metadata": {},
     "output_type": "execute_result"
    }
   ],
   "source": [
    "pd.read_sql_query('SELECT title FROM titles ORDER BY title ASC', connection)"
   ]
  },
  {
   "cell_type": "code",
   "execution_count": 4,
   "id": "c6b155599bc94e33",
   "metadata": {
    "ExecuteTime": {
     "end_time": "2024-05-05T20:31:40.732940Z",
     "start_time": "2024-05-05T20:31:40.723668300Z"
    },
    "collapsed": false
   },
   "outputs": [
    {
     "data": {
      "text/html": [
       "<div>\n",
       "<style scoped>\n",
       "    .dataframe tbody tr th:only-of-type {\n",
       "        vertical-align: middle;\n",
       "    }\n",
       "\n",
       "    .dataframe tbody tr th {\n",
       "        vertical-align: top;\n",
       "    }\n",
       "\n",
       "    .dataframe thead th {\n",
       "        text-align: right;\n",
       "    }\n",
       "</style>\n",
       "<table border=\"1\" class=\"dataframe\">\n",
       "  <thead>\n",
       "    <tr style=\"text-align: right;\">\n",
       "      <th></th>\n",
       "      <th>title</th>\n",
       "      <th>copyright</th>\n",
       "      <th>isbn</th>\n",
       "    </tr>\n",
       "  </thead>\n",
       "  <tbody>\n",
       "    <tr>\n",
       "      <th>0</th>\n",
       "      <td>Android 6 for Programmers</td>\n",
       "      <td>2016</td>\n",
       "      <td>0134289366</td>\n",
       "    </tr>\n",
       "    <tr>\n",
       "      <th>1</th>\n",
       "      <td>Android How to Program</td>\n",
       "      <td>2017</td>\n",
       "      <td>0134444302</td>\n",
       "    </tr>\n",
       "    <tr>\n",
       "      <th>2</th>\n",
       "      <td>C How to Program</td>\n",
       "      <td>2016</td>\n",
       "      <td>0133976890</td>\n",
       "    </tr>\n",
       "    <tr>\n",
       "      <th>3</th>\n",
       "      <td>C++ How to Program</td>\n",
       "      <td>2017</td>\n",
       "      <td>0134448235</td>\n",
       "    </tr>\n",
       "    <tr>\n",
       "      <th>4</th>\n",
       "      <td>Internet &amp; WWW How to Program</td>\n",
       "      <td>2012</td>\n",
       "      <td>0132151006</td>\n",
       "    </tr>\n",
       "    <tr>\n",
       "      <th>5</th>\n",
       "      <td>Intro to Python for CS and DS</td>\n",
       "      <td>2020</td>\n",
       "      <td>0135404673</td>\n",
       "    </tr>\n",
       "    <tr>\n",
       "      <th>6</th>\n",
       "      <td>Java How to Program</td>\n",
       "      <td>2018</td>\n",
       "      <td>0134743350</td>\n",
       "    </tr>\n",
       "    <tr>\n",
       "      <th>7</th>\n",
       "      <td>Visual Basic 2012 How to Program</td>\n",
       "      <td>2014</td>\n",
       "      <td>0133406954</td>\n",
       "    </tr>\n",
       "    <tr>\n",
       "      <th>8</th>\n",
       "      <td>Visual C# How to Program</td>\n",
       "      <td>2017</td>\n",
       "      <td>0134601548</td>\n",
       "    </tr>\n",
       "    <tr>\n",
       "      <th>9</th>\n",
       "      <td>Visual C++ How to Program</td>\n",
       "      <td>2008</td>\n",
       "      <td>0136151574</td>\n",
       "    </tr>\n",
       "  </tbody>\n",
       "</table>\n",
       "</div>"
      ],
      "text/plain": [
       "                              title copyright        isbn\n",
       "0         Android 6 for Programmers      2016  0134289366\n",
       "1            Android How to Program      2017  0134444302\n",
       "2                  C How to Program      2016  0133976890\n",
       "3                C++ How to Program      2017  0134448235\n",
       "4     Internet & WWW How to Program      2012  0132151006\n",
       "5     Intro to Python for CS and DS      2020  0135404673\n",
       "6               Java How to Program      2018  0134743350\n",
       "7  Visual Basic 2012 How to Program      2014  0133406954\n",
       "8          Visual C# How to Program      2017  0134601548\n",
       "9         Visual C++ How to Program      2008  0136151574"
      ]
     },
     "execution_count": 4,
     "metadata": {},
     "output_type": "execute_result"
    }
   ],
   "source": [
    "pd.read_sql_query(\"\"\"SELECT t.title, t.copyright, t.isbn\n",
    "                     FROM titles t\n",
    "                     INNER JOIN author_ISBN ai ON ai.isbn = t.isbn\n",
    "                     WHERE ai.id = 2\n",
    "                     ORDER BY t.title \"\"\", connection)"
   ]
  },
  {
   "cell_type": "code",
   "execution_count": 5,
   "id": "853c745dafbc1b92",
   "metadata": {
    "ExecuteTime": {
     "end_time": "2024-05-05T20:31:41.699053200Z",
     "start_time": "2024-05-05T20:31:41.688336Z"
    },
    "collapsed": false
   },
   "outputs": [
    {
     "name": "stdout",
     "output_type": "stream",
     "text": [
      "1\n"
     ]
    }
   ],
   "source": [
    "cursor = connection.cursor()\n",
    "cursor = cursor.execute(\"\"\"INSERT INTO authors(first, last)\n",
    "                           VALUES('Josh', 'Holsclaw')\"\"\")\n",
    "print(cursor.rowcount)"
   ]
  },
  {
   "cell_type": "code",
   "execution_count": 6,
   "id": "37915a8aa892f514",
   "metadata": {
    "ExecuteTime": {
     "end_time": "2024-05-05T20:31:46.776195900Z",
     "start_time": "2024-05-05T20:31:46.766024900Z"
    },
    "collapsed": false
   },
   "outputs": [
    {
     "name": "stdout",
     "output_type": "stream",
     "text": [
      "1\n",
      "1\n"
     ]
    }
   ],
   "source": [
    "cursor = cursor.execute(\"\"\"INSERT INTO titles(isbn, title, edition, copyright)\n",
    "                           VALUES('123456', 'Test Book', 1, '2024')\"\"\")\n",
    "\n",
    "print(cursor.rowcount)\n",
    "\n",
    "cursor = cursor.execute(\"\"\"INSERT INTO author_ISBN(id, isbn)\n",
    "                           VALUES(6, '123456')\"\"\")\n",
    "\n",
    "print(cursor.rowcount)\n",
    "\n"
   ]
  },
  {
   "cell_type": "code",
   "execution_count": 7,
   "id": "fd9a2536f9aa07af",
   "metadata": {
    "ExecuteTime": {
     "end_time": "2024-05-05T20:31:47.691705800Z",
     "start_time": "2024-05-05T20:31:47.683101200Z"
    },
    "collapsed": false
   },
   "outputs": [
    {
     "data": {
      "text/html": [
       "<div>\n",
       "<style scoped>\n",
       "    .dataframe tbody tr th:only-of-type {\n",
       "        vertical-align: middle;\n",
       "    }\n",
       "\n",
       "    .dataframe tbody tr th {\n",
       "        vertical-align: top;\n",
       "    }\n",
       "\n",
       "    .dataframe thead th {\n",
       "        text-align: right;\n",
       "    }\n",
       "</style>\n",
       "<table border=\"1\" class=\"dataframe\">\n",
       "  <thead>\n",
       "    <tr style=\"text-align: right;\">\n",
       "      <th></th>\n",
       "      <th>id</th>\n",
       "      <th>first</th>\n",
       "      <th>last</th>\n",
       "      <th>isbn</th>\n",
       "      <th>title</th>\n",
       "      <th>edition</th>\n",
       "      <th>copyright</th>\n",
       "    </tr>\n",
       "  </thead>\n",
       "  <tbody>\n",
       "    <tr>\n",
       "      <th>0</th>\n",
       "      <td>6</td>\n",
       "      <td>Josh</td>\n",
       "      <td>Holsclaw</td>\n",
       "      <td>123456</td>\n",
       "      <td>Test Book</td>\n",
       "      <td>1</td>\n",
       "      <td>2024</td>\n",
       "    </tr>\n",
       "  </tbody>\n",
       "</table>\n",
       "</div>"
      ],
      "text/plain": [
       "   id first      last    isbn      title  edition copyright\n",
       "0   6  Josh  Holsclaw  123456  Test Book        1      2024"
      ]
     },
     "execution_count": 7,
     "metadata": {},
     "output_type": "execute_result"
    }
   ],
   "source": [
    "pd.read_sql_query(\"\"\"SELECT a.id,\n",
    "                            a.first,\n",
    "                            a.last,\n",
    "                            t.isbn,\n",
    "                            t.title,\n",
    "                            t.edition,\n",
    "                            t.copyright\n",
    "                     FROM authors a\n",
    "                     JOIN author_ISBN ai ON ai.id = a.id\n",
    "                     JOIN titles t ON t.isbn = ai.isbn\n",
    "                     WHERE a.id = 6\"\"\", connection)"
   ]
  },
  {
   "cell_type": "code",
   "execution_count": 8,
   "id": "ac951df05a1e680e",
   "metadata": {
    "ExecuteTime": {
     "end_time": "2024-05-05T20:32:23.114900800Z",
     "start_time": "2024-05-05T20:32:23.114900800Z"
    },
    "collapsed": false
   },
   "outputs": [],
   "source": [
    "connection.close()"
   ]
  },
  {
   "cell_type": "code",
   "id": "4f79f332e8736f38",
   "metadata": {
    "collapsed": false
   },
   "outputs": [],
   "source": []
  }
 ],
 "metadata": {
  "kernelspec": {
   "display_name": "Python 3",
   "language": "python",
   "name": "python3"
  },
  "language_info": {
   "codemirror_mode": {
    "name": "ipython",
    "version": 2
   },
   "file_extension": ".py",
   "mimetype": "text/x-python",
   "name": "python",
   "nbconvert_exporter": "python",
   "pygments_lexer": "ipython2",
   "version": "2.7.6"
  }
 },
 "nbformat": 4,
 "nbformat_minor": 5
}
